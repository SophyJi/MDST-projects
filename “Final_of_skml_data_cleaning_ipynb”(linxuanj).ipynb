{
  "nbformat": 4,
  "nbformat_minor": 0,
  "metadata": {
    "colab": {
      "provenance": [],
      "collapsed_sections": [],
      "include_colab_link": true
    },
    "kernelspec": {
      "name": "python3",
      "display_name": "Python 3"
    },
    "language_info": {
      "name": "python"
    },
    "gpuClass": "standard"
  },
  "cells": [
    {
      "cell_type": "markdown",
      "metadata": {
        "id": "view-in-github",
        "colab_type": "text"
      },
      "source": [
        "<a href=\"https://colab.research.google.com/github/SophyJi/MDST-projects/blob/main/%E2%80%9CFinal_of_skml_data_cleaning_ipynb%E2%80%9D(linxuanj).ipynb\" target=\"_parent\"><img src=\"https://colab.research.google.com/assets/colab-badge.svg\" alt=\"Open In Colab\"/></a>"
      ]
    },
    {
      "cell_type": "code",
      "source": [
        "from google.colab import drive\n",
        "drive.mount('/content/drive')"
      ],
      "metadata": {
        "colab": {
          "base_uri": "https://localhost:8080/"
        },
        "id": "51pKRu_lpjA8",
        "outputId": "476a369c-f403-4e80-ec48-90d94777f433"
      },
      "execution_count": null,
      "outputs": [
        {
          "output_type": "stream",
          "name": "stdout",
          "text": [
            "Mounted at /content/drive\n"
          ]
        }
      ]
    },
    {
      "cell_type": "markdown",
      "source": [
        "# Data Cleaning"
      ],
      "metadata": {
        "id": "hWFZqDft1OXA"
      }
    },
    {
      "cell_type": "code",
      "source": [
        "!ls drive/MyDrive/\"MDST 2022-2023\"\n",
        "!unzip drive/MyDrive/\"MDST 2022-2023\"/train .\n",
        "!unzip -q train.zip"
      ],
      "metadata": {
        "id": "zCb8JLs4ptQM",
        "colab": {
          "base_uri": "https://localhost:8080/"
        },
        "outputId": "a5e7603f-12d1-44df-8542-c5f6857b725e"
      },
      "execution_count": null,
      "outputs": [
        {
          "output_type": "stream",
          "name": "stdout",
          "text": [
            " data_filenames.txt  'First of skml_data_cleaning.ipynb'   train\n",
            "'dogs vs cats'\t      __MACOSX\t\t\t\t   train.zip\n",
            "Archive:  drive/MyDrive/MDST 2022-2023/train.zip\n",
            "caution: filename not matched:  .\n",
            "unzip:  cannot find or open train.zip, train.zip.zip or train.zip.ZIP.\n"
          ]
        }
      ]
    },
    {
      "cell_type": "code",
      "source": [
        "!cd drive/MyDrive/\"MDST 2022-2023\"/\"train.zip\"  && ls && unzip train.zip"
      ],
      "metadata": {
        "colab": {
          "base_uri": "https://localhost:8080/"
        },
        "id": "vProiM4GuuEE",
        "outputId": "ebaa5056-e704-46ed-cb10-538ee2a5dcef"
      },
      "execution_count": null,
      "outputs": [
        {
          "output_type": "stream",
          "name": "stdout",
          "text": [
            "/bin/bash: line 0: cd: drive/MyDrive/MDST 2022-2023/train.zip: Not a directory\n"
          ]
        }
      ]
    },
    {
      "cell_type": "code",
      "source": [
        "!ls train > data_filenames.txt"
      ],
      "metadata": {
        "id": "NUAZfU2kqItY",
        "colab": {
          "base_uri": "https://localhost:8080/"
        },
        "outputId": "2f9400ad-da07-44b7-8110-18fe273ac1cc"
      },
      "execution_count": null,
      "outputs": [
        {
          "output_type": "stream",
          "name": "stdout",
          "text": [
            "ls: cannot access 'train': No such file or directory\n"
          ]
        }
      ]
    },
    {
      "cell_type": "code",
      "source": [
        "!cat data_filenames.txt | tail -n 10"
      ],
      "metadata": {
        "id": "3d-LazIjuQp3"
      },
      "execution_count": null,
      "outputs": []
    },
    {
      "cell_type": "markdown",
      "source": [
        "1. Load every single image as a 2D grayscale array\n",
        "2. Figure out the corresponding label for each image"
      ],
      "metadata": {
        "id": "0L_JssXqqWcS"
      }
    },
    {
      "cell_type": "code",
      "execution_count": null,
      "metadata": {
        "id": "o4N6bSgZnW1x"
      },
      "outputs": [],
      "source": [
        "import cv2"
      ]
    },
    {
      "cell_type": "code",
      "source": [
        "image = cv2.imread('train/dog.1027.jpg')\n",
        "grayscale_image = cv2.cvtColor(image, cv2.COLOR_BGR2GRAY)\n",
        "grayscale_image"
      ],
      "metadata": {
        "colab": {
          "base_uri": "https://localhost:8080/",
          "height": 198
        },
        "id": "7xnm9wDyqp6u",
        "outputId": "6b640972-6277-4d01-a2d9-fc3ff566d01d"
      },
      "execution_count": null,
      "outputs": [
        {
          "output_type": "error",
          "ename": "error",
          "evalue": "ignored",
          "traceback": [
            "\u001b[0;31m---------------------------------------------------------------------------\u001b[0m",
            "\u001b[0;31merror\u001b[0m                                     Traceback (most recent call last)",
            "\u001b[0;32m<ipython-input-9-d4e58a874530>\u001b[0m in \u001b[0;36m<module>\u001b[0;34m\u001b[0m\n\u001b[1;32m      1\u001b[0m \u001b[0mimage\u001b[0m \u001b[0;34m=\u001b[0m \u001b[0mcv2\u001b[0m\u001b[0;34m.\u001b[0m\u001b[0mimread\u001b[0m\u001b[0;34m(\u001b[0m\u001b[0;34m'train/dog.1027.jpg'\u001b[0m\u001b[0;34m)\u001b[0m\u001b[0;34m\u001b[0m\u001b[0;34m\u001b[0m\u001b[0m\n\u001b[0;32m----> 2\u001b[0;31m \u001b[0mgrayscale_image\u001b[0m \u001b[0;34m=\u001b[0m \u001b[0mcv2\u001b[0m\u001b[0;34m.\u001b[0m\u001b[0mcvtColor\u001b[0m\u001b[0;34m(\u001b[0m\u001b[0mimage\u001b[0m\u001b[0;34m,\u001b[0m \u001b[0mcv2\u001b[0m\u001b[0;34m.\u001b[0m\u001b[0mCOLOR_BGR2GRAY\u001b[0m\u001b[0;34m)\u001b[0m\u001b[0;34m\u001b[0m\u001b[0;34m\u001b[0m\u001b[0m\n\u001b[0m\u001b[1;32m      3\u001b[0m \u001b[0mgrayscale_image\u001b[0m\u001b[0;34m\u001b[0m\u001b[0;34m\u001b[0m\u001b[0m\n",
            "\u001b[0;31merror\u001b[0m: OpenCV(4.6.0) /io/opencv/modules/imgproc/src/color.cpp:182: error: (-215:Assertion failed) !_src.empty() in function 'cvtColor'\n"
          ]
        }
      ]
    },
    {
      "cell_type": "code",
      "source": [
        "import matplotlib.pyplot as plt\n",
        "plt.imshow(grayscale_image, cmap=\"gray\")"
      ],
      "metadata": {
        "id": "r2bdvc9PrXFv"
      },
      "execution_count": null,
      "outputs": []
    },
    {
      "cell_type": "code",
      "source": [
        "def load_image_training_pair(filename):\n",
        "    # input: the filename for the image\n",
        "    # output: (array, label (1 - dog, 0 - cat))\n",
        "    image = cv2.imread(\"train/\" + filename, cv2.IMREAD_GRAYSCALE) / 255\n",
        "    resized_image = cv2.resize(image, (80,80), cv2.INTER_LANCZOS4)\n",
        "    if filename[0] == \"d\":\n",
        "        label = 1\n",
        "    else:\n",
        "        label = 0\n",
        "    return resized_image, label"
      ],
      "metadata": {
        "id": "i-V8LhhBsJzz"
      },
      "execution_count": null,
      "outputs": []
    },
    {
      "cell_type": "code",
      "source": [
        "import tqdm\n",
        "\n",
        "images = []\n",
        "labels = []\n",
        "\n",
        "with open(\"data_filenames.txt\", \"r\") as ifstream:\n",
        "    for index, filename in tqdm.tqdm(enumerate(ifstream.readlines())):\n",
        "        image, label = load_image_training_pair(filename.strip())\n",
        "        images.append(image)\n",
        "        labels.append(label)"
      ],
      "metadata": {
        "id": "6234GTRUupPv"
      },
      "execution_count": null,
      "outputs": []
    },
    {
      "cell_type": "code",
      "source": [
        "test_images = images[0:2500] + images[12500:15000]\n",
        "test_labels = labels[0:2500] + labels[12500:15000]\n",
        "\n",
        "train_images = images[2500:12500] + images[15000:25000]\n",
        "train_labels = labels[2500:12500] + labels[15000:25000]"
      ],
      "metadata": {
        "id": "Zng6pR56vMwC"
      },
      "execution_count": null,
      "outputs": []
    },
    {
      "cell_type": "code",
      "source": [
        "import numpy as np\n",
        "test_images = np.asarray(test_images)\n",
        "test_labels = np.asarray(test_labels)\n",
        "train_images = np.asarray(train_images)\n",
        "train_labels = np.asarray(train_labels)\n"
      ],
      "metadata": {
        "id": "wjlguF36ETXX"
      },
      "execution_count": null,
      "outputs": []
    },
    {
      "cell_type": "markdown",
      "source": [
        "# Model Definition"
      ],
      "metadata": {
        "id": "a5RkYjARuy3n"
      }
    },
    {
      "cell_type": "code",
      "source": [
        "import tensorflow as tf\n",
        "from tensorflow.keras import datasets, layers, models\n",
        "import matplotlib.pyplot as plt"
      ],
      "metadata": {
        "id": "AMRdC_xXu0kp"
      },
      "execution_count": null,
      "outputs": []
    },
    {
      "cell_type": "code",
      "source": [
        "model = models.Sequential(name=\"dvc3000\")\n",
        "model.add(layers.Conv2D(32, (3, 3), activation='relu', input_shape=(80, 80, 1)))\n",
        "model.add(layers.MaxPooling2D((2, 2)))\n",
        "model.add(layers.Conv2D(64, (3, 3), activation='relu'))\n",
        "model.add(layers.MaxPooling2D((2, 2)))\n",
        "model.add(layers.Conv2D(64, (3, 3), activation='relu'))\n",
        "model.add(layers.MaxPooling2D((2, 2)))\n",
        "model.add(layers.Conv2D(64, (3, 3), activation='relu'))\n",
        "model.add(layers.MaxPooling2D((2, 2)))\n",
        "model.add(layers.Conv2D(64, (3, 3), activation='relu'))\n",
        "model.add(layers.Flatten())\n",
        "model.add(layers.Dense(64, activation='relu'))\n",
        "model.add(layers.Dense(2))"
      ],
      "metadata": {
        "id": "xohEg6Eivhuu"
      },
      "execution_count": null,
      "outputs": []
    },
    {
      "cell_type": "code",
      "source": [
        "model.summary()"
      ],
      "metadata": {
        "colab": {
          "base_uri": "https://localhost:8080/"
        },
        "id": "c4Db580UEqUW",
        "outputId": "b425cb9e-58f6-4442-9f8c-3a1933fd640e"
      },
      "execution_count": null,
      "outputs": [
        {
          "output_type": "stream",
          "name": "stdout",
          "text": [
            "Model: \"dvc3000\"\n",
            "_________________________________________________________________\n",
            " Layer (type)                Output Shape              Param #   \n",
            "=================================================================\n",
            " conv2d_112 (Conv2D)         (None, 78, 78, 32)        320       \n",
            "                                                                 \n",
            " max_pooling2d_94 (MaxPoolin  (None, 39, 39, 32)       0         \n",
            " g2D)                                                            \n",
            "                                                                 \n",
            " conv2d_113 (Conv2D)         (None, 37, 37, 256)       73984     \n",
            "                                                                 \n",
            " max_pooling2d_95 (MaxPoolin  (None, 18, 18, 256)      0         \n",
            " g2D)                                                            \n",
            "                                                                 \n",
            " conv2d_114 (Conv2D)         (None, 16, 16, 128)       295040    \n",
            "                                                                 \n",
            " max_pooling2d_96 (MaxPoolin  (None, 8, 8, 128)        0         \n",
            " g2D)                                                            \n",
            "                                                                 \n",
            " conv2d_115 (Conv2D)         (None, 6, 6, 64)          73792     \n",
            "                                                                 \n",
            " max_pooling2d_97 (MaxPoolin  (None, 3, 3, 64)         0         \n",
            " g2D)                                                            \n",
            "                                                                 \n",
            " conv2d_116 (Conv2D)         (None, 1, 1, 32)          18464     \n",
            "                                                                 \n",
            " flatten_23 (Flatten)        (None, 32)                0         \n",
            "                                                                 \n",
            " dropout_6 (Dropout)         (None, 32)                0         \n",
            "                                                                 \n",
            " dense_46 (Dense)            (None, 16)                528       \n",
            "                                                                 \n",
            " dense_47 (Dense)            (None, 2)                 34        \n",
            "                                                                 \n",
            "=================================================================\n",
            "Total params: 462,162\n",
            "Trainable params: 462,162\n",
            "Non-trainable params: 0\n",
            "_________________________________________________________________\n"
          ]
        }
      ]
    },
    {
      "cell_type": "code",
      "source": [
        "model.compile(optimizer='adam',\n",
        "              loss=tf.keras.losses.SparseCategoricalCrossentropy(from_logits=True),\n",
        "              metrics=['accuracy'])\n",
        "\n",
        "history = model.fit(train_images, train_labels, epochs=10, \n",
        "                    validation_data=(test_images, test_labels))\n"
      ],
      "metadata": {
        "colab": {
          "base_uri": "https://localhost:8080/"
        },
        "id": "IeEPK-FDyNua",
        "outputId": "8c0755d1-5693-41fc-b22a-0ce1efaf1c67"
      },
      "execution_count": null,
      "outputs": [
        {
          "output_type": "stream",
          "name": "stdout",
          "text": [
            "Epoch 1/10\n",
            "625/625 [==============================] - 11s 17ms/step - loss: 0.6905 - accuracy: 0.5213 - val_loss: 0.6818 - val_accuracy: 0.5492\n",
            "Epoch 2/10\n",
            "625/625 [==============================] - 10s 17ms/step - loss: 0.6828 - accuracy: 0.5594 - val_loss: 0.6713 - val_accuracy: 0.5896\n",
            "Epoch 3/10\n",
            "625/625 [==============================] - 10s 16ms/step - loss: 0.6468 - accuracy: 0.6314 - val_loss: 0.5999 - val_accuracy: 0.6908\n",
            "Epoch 4/10\n",
            "625/625 [==============================] - 10s 17ms/step - loss: 0.5748 - accuracy: 0.7042 - val_loss: 0.5022 - val_accuracy: 0.7606\n",
            "Epoch 5/10\n",
            "625/625 [==============================] - 10s 16ms/step - loss: 0.4804 - accuracy: 0.7765 - val_loss: 0.4537 - val_accuracy: 0.7892\n",
            "Epoch 6/10\n",
            "625/625 [==============================] - 10s 17ms/step - loss: 0.4058 - accuracy: 0.8212 - val_loss: 0.4143 - val_accuracy: 0.8182\n",
            "Epoch 7/10\n",
            "625/625 [==============================] - 10s 16ms/step - loss: 0.3611 - accuracy: 0.8441 - val_loss: 0.3792 - val_accuracy: 0.8282\n",
            "Epoch 8/10\n",
            "625/625 [==============================] - 10s 16ms/step - loss: 0.3264 - accuracy: 0.8611 - val_loss: 0.3533 - val_accuracy: 0.8466\n",
            "Epoch 9/10\n",
            "625/625 [==============================] - 10s 17ms/step - loss: 0.2923 - accuracy: 0.8773 - val_loss: 0.3458 - val_accuracy: 0.8530\n",
            "Epoch 10/10\n",
            "625/625 [==============================] - 11s 17ms/step - loss: 0.2595 - accuracy: 0.8947 - val_loss: 0.3594 - val_accuracy: 0.8442\n"
          ]
        }
      ]
    },
    {
      "cell_type": "code",
      "source": [
        "import seaborn as sns\n",
        "sns.set_theme()\n",
        "plt.plot(np.arange(0, len(history.history['accuracy'])), history.history['accuracy'], label=\"train\")\n",
        "plt.plot(np.arange(0, len(history.history['val_accuracy'])), history.history['val_accuracy'], label=\"validation\")\n",
        "plt.legend()"
      ],
      "metadata": {
        "colab": {
          "base_uri": "https://localhost:8080/",
          "height": 285
        },
        "id": "8xEHHaejEu13",
        "outputId": "f1387382-7135-4f5a-8fef-1b5fbd6eb938"
      },
      "execution_count": null,
      "outputs": [
        {
          "output_type": "execute_result",
          "data": {
            "text/plain": [
              "<matplotlib.legend.Legend at 0x7ff814138910>"
            ]
          },
          "metadata": {},
          "execution_count": 83
        },
        {
          "output_type": "display_data",
          "data": {
            "text/plain": [
              "<Figure size 432x288 with 1 Axes>"
            ],
            "image/png": "[encoded data removed]"
          },
          "metadata": {}
        }
      ]
    },
    {
      "cell_type": "code",
      "source": [
        "plt.plot(np.arange(0, len(history.history['loss'])), history.history['loss'], label=\"train\")\n",
        "plt.plot(np.arange(0, len(history.history['val_loss'])), history.history['val_loss'], label=\"validation\")\n",
        "plt.legend()"
      ],
      "metadata": {
        "colab": {
          "base_uri": "https://localhost:8080/",
          "height": 285
        },
        "id": "hmVmIuHGrPj-",
        "outputId": "ae8eea21-281e-4835-bea0-5dd99acadb85"
      },
      "execution_count": null,
      "outputs": [
        {
          "output_type": "execute_result",
          "data": {
            "text/plain": [
              "<matplotlib.legend.Legend at 0x7ff814122b50>"
            ]
          },
          "metadata": {},
          "execution_count": 84
        },
        {
          "output_type": "display_data",
          "data": {
            "text/plain": [
              "<Figure size 432x288 with 1 Axes>"
            ],
            "image/png": "[encoded data removed]"
          },
          "metadata": {}
        }
      ]
    }
  ]
}